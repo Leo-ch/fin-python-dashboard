{
 "cells": [
  {
   "cell_type": "code",
   "execution_count": 26,
   "id": "ed161ae0-c4b9-41f9-90b0-75d5bb222268",
   "metadata": {},
   "outputs": [],
   "source": [
    "import pandas as pd\n",
    "import plotly.express as px\n",
    "import streamlit as st\n",
    "import datetime"
   ]
  },
  {
   "cell_type": "markdown",
   "id": "07db9588",
   "metadata": {},
   "source": [
    "To run the app:\n",
    "(1) Change the cd to C:\\Users\\chaul\\AppData\\Local\\Programs\\Python\\Python311\\Scripts\\Project H\n",
    "(2) run the command jupytext --to py ProjectH.ipynb\n",
    "(3) run the comment streamlit run ProjectH.py"
   ]
  },
  {
   "cell_type": "code",
   "execution_count": 54,
   "id": "f0337a06",
   "metadata": {},
   "outputs": [
    {
     "name": "stdout",
     "output_type": "stream",
     "text": [
      "         Category                                    Item      Geography  \\\n",
      "0              PL           Net interest income/(expense)         Europe   \n",
      "1              PL                Net fee income/(expense)         Europe   \n",
      "2              PL                      Net trading income         Europe   \n",
      "3              PL                  Other income/(expense)         Europe   \n",
      "4              PL                  Other income/(expense)         Europe   \n",
      "...           ...                                     ...            ...   \n",
      "11995       Ratio                   Cost efficiency ratio  Latin America   \n",
      "11996       Ratio          Adjusted cost efficiency ratio  Latin America   \n",
      "11997        SI_R             Significent Items - Revenue  Latin America   \n",
      "11998  SI_ECL/LIC             Significent Items - ECL/LIC  Latin America   \n",
      "11999        SI_E  Significent Items - Operating Expenses  Latin America   \n",
      "\n",
      "             value      Month Division  Year  Quarter_index Quarter  \n",
      "0      1056.000000 2019-12-31     RBWM  2019            4.0      Q4  \n",
      "1       350.000000 2019-12-31     RBWM  2019            4.0      Q4  \n",
      "2         9.000000 2019-12-31     RBWM  2019            4.0      Q4  \n",
      "3       392.000000 2019-12-31     RBWM  2019            4.0      Q4  \n",
      "4        47.000000 2019-12-31     RBWM  2019            4.0      Q4  \n",
      "...            ...        ...      ...   ...            ...     ...  \n",
      "11995     0.681466 2016-03-31    Total  2016            1.0      Q1  \n",
      "11996     0.650446 2016-03-31    Total  2016            1.0      Q1  \n",
      "11997   -40.000000 2016-03-31    Total  2016            1.0      Q1  \n",
      "11998          NaN 2016-03-31    Total  2016            1.0      Q1  \n",
      "11999   -18.000000 2016-03-31    Total  2016            1.0      Q1  \n",
      "\n",
      "[12000 rows x 9 columns]\n"
     ]
    },
    {
     "name": "stderr",
     "output_type": "stream",
     "text": [
      "C:\\Users\\chaul\\AppData\\Local\\Temp\\ipykernel_10528\\787260490.py:10: UserWarning: Parsing dates in %d-%m-%Y format when dayfirst=False (the default) was specified. Pass `dayfirst=True` or specify a format to silence this warning.\n",
      "  df['Month'] = pd.to_datetime(df['Month'])\n"
     ]
    }
   ],
   "source": [
    "df = pd.concat( [pd.read_excel('Project_H_data.xlsx',sheet_name='Europe'),\n",
    "                pd.read_excel('Project_H_data.xlsx',sheet_name='Asia'),\n",
    "                pd.read_excel('Project_H_data.xlsx',sheet_name='Middle East and North Africa'),\n",
    "                pd.read_excel('Project_H_data.xlsx',sheet_name='North America'),\n",
    "                pd.read_excel('Project_H_data.xlsx',sheet_name='Latin America')\n",
    "                ])\n",
    "df=df.melt(id_vars=['Category','Item','Geography'])\n",
    "df[['Month','Division']]=df['variable'].str.split('_',expand=True)\n",
    "df.drop(columns='variable',inplace=True)\n",
    "df['Month'] = pd.to_datetime(df['Month'])\n",
    "df['Year']=df['Month'].dt.year\n",
    "df['Quarter_index']=df['Month'].dt.month/3\n",
    "df['Quarter']=\"Q\"+df['Quarter_index'].astype(int).astype(str)\n",
    "print(df)"
   ]
  },
  {
   "cell_type": "code",
   "execution_count": 4,
   "id": "e1e2f197",
   "metadata": {},
   "outputs": [
    {
     "name": "stderr",
     "output_type": "stream",
     "text": [
      "2023-08-17 20:55:05.514 \n",
      "  \u001b[33m\u001b[1mWarning:\u001b[0m to view this Streamlit app on a browser, run it with the following\n",
      "  command:\n",
      "\n",
      "    streamlit run c:\\Users\\chaul\\AppData\\Local\\Programs\\Python\\Python311\\Lib\\site-packages\\ipykernel_launcher.py [ARGUMENTS]\n"
     ]
    },
    {
     "data": {
      "text/plain": [
       "DeltaGenerator()"
      ]
     },
     "execution_count": 4,
     "metadata": {},
     "output_type": "execute_result"
    }
   ],
   "source": [
    "st.set_page_config(page_title='Financial Dashboard',\n",
    "                   page_icon='HSBC_logo.png',\n",
    "                   layout=\"wide\")\n",
    "st.dataframe(df)"
   ]
  },
  {
   "cell_type": "code",
   "execution_count": 135,
   "id": "3ea088be",
   "metadata": {},
   "outputs": [
    {
     "ename": "ModuleNotFoundError",
     "evalue": "No module named 'streamlit.ScriptRequestQueue'",
     "output_type": "error",
     "traceback": [
      "\u001b[1;31m---------------------------------------------------------------------------\u001b[0m",
      "\u001b[1;31mModuleNotFoundError\u001b[0m                       Traceback (most recent call last)",
      "Cell \u001b[1;32mIn[135], line 18\u001b[0m\n\u001b[0;32m     15\u001b[0m G8\u001b[39m=\u001b[39m pd\u001b[39m.\u001b[39mDataFrame(df_selection\u001b[39m.\u001b[39mloc[(df_selection[\u001b[39m'\u001b[39m\u001b[39mItem\u001b[39m\u001b[39m'\u001b[39m]\u001b[39m==\u001b[39m\u001b[39m'\u001b[39m\u001b[39mProfit/(loss) before tax\u001b[39m\u001b[39m'\u001b[39m) \u001b[39m&\u001b[39m (df_selection[\u001b[39m'\u001b[39m\u001b[39mYear\u001b[39m\u001b[39m'\u001b[39m]\u001b[39m==\u001b[39m\u001b[39m2019\u001b[39m)]\u001b[39m.\u001b[39mgroupby(by\u001b[39m=\u001b[39m[\u001b[39m'\u001b[39m\u001b[39mDivision\u001b[39m\u001b[39m'\u001b[39m])[\u001b[39m'\u001b[39m\u001b[39mvalue\u001b[39m\u001b[39m'\u001b[39m]\u001b[39m.\u001b[39msum())\n\u001b[0;32m     17\u001b[0m G8\u001b[39m=\u001b[39mG8[G8[\u001b[39m'\u001b[39m\u001b[39mvalue\u001b[39m\u001b[39m'\u001b[39m]\u001b[39m!=\u001b[39m\u001b[39m0\u001b[39m]\n\u001b[1;32m---> 18\u001b[0m \u001b[39mfrom\u001b[39;00m \u001b[39mstreamlit\u001b[39;00m\u001b[39m.\u001b[39;00m\u001b[39mScriptRequestQueue\u001b[39;00m \u001b[39mimport\u001b[39;00m RerunData\n\u001b[0;32m     19\u001b[0m \u001b[39mfrom\u001b[39;00m \u001b[39mstreamlit\u001b[39;00m\u001b[39m.\u001b[39;00m\u001b[39mScriptRunner\u001b[39;00m \u001b[39mimport\u001b[39;00m RerunException\n",
      "\u001b[1;31mModuleNotFoundError\u001b[0m: No module named 'streamlit.ScriptRequestQueue'"
     ]
    }
   ],
   "source": [
    "st.sidebar.header('Filter Pannel')\n",
    "div = st.sidebar.multiselect(\n",
    "    'Select the division:',\n",
    "    options=df['Division'].unique(),\n",
    "    default=df['Division'].unique()\n",
    ")\n",
    "geo = st.sidebar.multiselect(\n",
    "    'Select the geography:',\n",
    "    options=df['Geography'].unique(),\n",
    "    default=df['Geography'].unique()\n",
    ")\n",
    "\n",
    "df_selection = df.query(\"Division == @div & Geography == @geo\")\n",
    "\n",
    "G4 = pd.DataFrame(df_selection.loc[df_selection['Item']=='Net operating income before change in expected credit losses and other credit impairment charges'].groupby(by=['Year'])['value'].sum().sort_values(ascending=False))\n",
    "G4['color'].loc[0]='#D7282F'\n",
    "G4['color'].loc[-0]='#BCBEC0'"
   ]
  },
  {
   "cell_type": "code",
   "execution_count": null,
   "id": "002fc675",
   "metadata": {},
   "outputs": [],
   "source": []
  }
 ],
 "metadata": {
  "kernelspec": {
   "display_name": "Python 3",
   "language": "python",
   "name": "python3"
  },
  "language_info": {
   "codemirror_mode": {
    "name": "ipython",
    "version": 3
   },
   "file_extension": ".py",
   "mimetype": "text/x-python",
   "name": "python",
   "nbconvert_exporter": "python",
   "pygments_lexer": "ipython3",
   "version": "3.11.4"
  },
  "vscode": {
   "interpreter": {
    "hash": "21dddbd2ddf7fcf2a4e86761b632fee2179607170e7f23dd9a4563474ee78710"
   }
  }
 },
 "nbformat": 4,
 "nbformat_minor": 5
}
